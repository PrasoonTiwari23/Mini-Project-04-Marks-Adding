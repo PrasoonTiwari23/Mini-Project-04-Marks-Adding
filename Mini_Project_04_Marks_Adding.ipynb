{
  "nbformat": 4,
  "nbformat_minor": 0,
  "metadata": {
    "colab": {
      "provenance": []
    },
    "kernelspec": {
      "name": "python3",
      "display_name": "Python 3"
    },
    "language_info": {
      "name": "python"
    }
  },
  "cells": [
    {
      "cell_type": "code",
      "execution_count": null,
      "metadata": {
        "id": "t3-NJCHKgjsc"
      },
      "outputs": [],
      "source": [
        "import csv\n",
        "\n",
        "def calculate_total_marks(input_file, output_file):\n",
        "    marks_by_roll = {}\n",
        "\n",
        "    with open(input_file, 'r') as file:\n",
        "        csv_reader = csv.reader(file)\n",
        "\n",
        "        # Skip the header row\n",
        "        next(csv_reader)\n",
        "\n",
        "        for row in csv_reader:\n",
        "            roll_number, marks = row\n",
        "            marks = int(marks)\n",
        "\n",
        "            if roll_number not in marks_by_roll:\n",
        "                marks_by_roll[roll_number] = marks\n",
        "            else:\n",
        "                marks_by_roll[roll_number] += marks\n",
        "\n",
        "    with open(output_file, 'w', newline='') as file:\n",
        "        csv_writer = csv.writer(file)\n",
        "        csv_writer.writerow(['Roll Number', 'Total Marks'])  # Write the header row\n",
        "\n",
        "        for roll_number, total_marks in marks_by_roll.items():\n",
        "            csv_writer.writerow([roll_number, total_marks])\n",
        "\n",
        "input_file = 'Mini Project - Marks Adding.csv'  # Replace with the path to your input file\n",
        "output_file = 'output.csv'  # Replace with the desired path for the output file\n",
        "\n",
        "calculate_total_marks(input_file, output_file)"
      ]
    }
  ]
}